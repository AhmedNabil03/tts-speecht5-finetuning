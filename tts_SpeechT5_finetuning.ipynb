{
  "nbformat": 4,
  "nbformat_minor": 0,
  "metadata": {
    "colab": {
      "provenance": [],
      "gpuType": "T4"
    },
    "kernelspec": {
      "name": "python3",
      "display_name": "Python 3"
    },
    "language_info": {
      "name": "python"
    },
    "accelerator": "GPU"
  },
  "cells": [
    {
      "cell_type": "code",
      "execution_count": null,
      "metadata": {
        "colab": {
          "base_uri": "https://localhost:8080/"
        },
        "id": "CtK3FujXWMWb",
        "outputId": "2d615c45-060a-45e7-db80-b79c7ed23b62"
      },
      "outputs": [
        {
          "output_type": "stream",
          "name": "stdout",
          "text": [
            "Sat Mar  8 14:15:58 2025       \n",
            "+-----------------------------------------------------------------------------------------+\n",
            "| NVIDIA-SMI 550.54.15              Driver Version: 550.54.15      CUDA Version: 12.4     |\n",
            "|-----------------------------------------+------------------------+----------------------+\n",
            "| GPU  Name                 Persistence-M | Bus-Id          Disp.A | Volatile Uncorr. ECC |\n",
            "| Fan  Temp   Perf          Pwr:Usage/Cap |           Memory-Usage | GPU-Util  Compute M. |\n",
            "|                                         |                        |               MIG M. |\n",
            "|=========================================+========================+======================|\n",
            "|   0  Tesla T4                       Off |   00000000:00:04.0 Off |                    0 |\n",
            "| N/A   52C    P8             12W /   70W |       0MiB /  15360MiB |      0%      Default |\n",
            "|                                         |                        |                  N/A |\n",
            "+-----------------------------------------+------------------------+----------------------+\n",
            "                                                                                         \n",
            "+-----------------------------------------------------------------------------------------+\n",
            "| Processes:                                                                              |\n",
            "|  GPU   GI   CI        PID   Type   Process name                              GPU Memory |\n",
            "|        ID   ID                                                               Usage      |\n",
            "|=========================================================================================|\n",
            "|  No running processes found                                                             |\n",
            "+-----------------------------------------------------------------------------------------+\n"
          ]
        }
      ],
      "source": [
        "!nvidia-smi"
      ]
    },
    {
      "cell_type": "code",
      "source": [
        "!pip install -qU transformers datasets soundfile speechbrain accelerate"
      ],
      "metadata": {
        "colab": {
          "base_uri": "https://localhost:8080/"
        },
        "id": "p9brB36lwiYN",
        "outputId": "f82798e1-3905-41c5-93e2-50d9da56582e"
      },
      "execution_count": null,
      "outputs": [
        {
          "output_type": "stream",
          "name": "stdout",
          "text": [
            "\u001b[2K     \u001b[90m━━━━━━━━━━━━━━━━━━━━━━━━━━━━━━━━━━━━━━━━\u001b[0m \u001b[32m44.0/44.0 kB\u001b[0m \u001b[31m2.5 MB/s\u001b[0m eta \u001b[36m0:00:00\u001b[0m\n",
            "\u001b[2K   \u001b[90m━━━━━━━━━━━━━━━━━━━━━━━━━━━━━━━━━━━━━━━━\u001b[0m \u001b[32m10.0/10.0 MB\u001b[0m \u001b[31m91.5 MB/s\u001b[0m eta \u001b[36m0:00:00\u001b[0m\n",
            "\u001b[2K   \u001b[90m━━━━━━━━━━━━━━━━━━━━━━━━━━━━━━━━━━━━━━━━\u001b[0m \u001b[32m485.4/485.4 kB\u001b[0m \u001b[31m41.4 MB/s\u001b[0m eta \u001b[36m0:00:00\u001b[0m\n",
            "\u001b[2K   \u001b[90m━━━━━━━━━━━━━━━━━━━━━━━━━━━━━━━━━━━━━━━━\u001b[0m \u001b[32m824.8/824.8 kB\u001b[0m \u001b[31m52.9 MB/s\u001b[0m eta \u001b[36m0:00:00\u001b[0m\n",
            "\u001b[2K   \u001b[90m━━━━━━━━━━━━━━━━━━━━━━━━━━━━━━━━━━━━━━━━\u001b[0m \u001b[32m342.1/342.1 kB\u001b[0m \u001b[31m29.8 MB/s\u001b[0m eta \u001b[36m0:00:00\u001b[0m\n",
            "\u001b[2K   \u001b[90m━━━━━━━━━━━━━━━━━━━━━━━━━━━━━━━━━━━━━━━━\u001b[0m \u001b[32m116.3/116.3 kB\u001b[0m \u001b[31m11.3 MB/s\u001b[0m eta \u001b[36m0:00:00\u001b[0m\n",
            "\u001b[2K   \u001b[90m━━━━━━━━━━━━━━━━━━━━━━━━━━━━━━━━━━━━━━━━\u001b[0m \u001b[32m143.5/143.5 kB\u001b[0m \u001b[31m14.3 MB/s\u001b[0m eta \u001b[36m0:00:00\u001b[0m\n",
            "\u001b[2K   \u001b[90m━━━━━━━━━━━━━━━━━━━━━━━━━━━━━━━━━━━━━━━━\u001b[0m \u001b[32m363.4/363.4 MB\u001b[0m \u001b[31m4.2 MB/s\u001b[0m eta \u001b[36m0:00:00\u001b[0m\n",
            "\u001b[2K   \u001b[90m━━━━━━━━━━━━━━━━━━━━━━━━━━━━━━━━━━━━━━━━\u001b[0m \u001b[32m13.8/13.8 MB\u001b[0m \u001b[31m81.9 MB/s\u001b[0m eta \u001b[36m0:00:00\u001b[0m\n",
            "\u001b[2K   \u001b[90m━━━━━━━━━━━━━━━━━━━━━━━━━━━━━━━━━━━━━━━━\u001b[0m \u001b[32m24.6/24.6 MB\u001b[0m \u001b[31m55.5 MB/s\u001b[0m eta \u001b[36m0:00:00\u001b[0m\n",
            "\u001b[2K   \u001b[90m━━━━━━━━━━━━━━━━━━━━━━━━━━━━━━━━━━━━━━━━\u001b[0m \u001b[32m883.7/883.7 kB\u001b[0m \u001b[31m45.2 MB/s\u001b[0m eta \u001b[36m0:00:00\u001b[0m\n",
            "\u001b[2K   \u001b[90m━━━━━━━━━━━━━━━━━━━━━━━━━━━━━━━━━━━━━━━━\u001b[0m \u001b[32m664.8/664.8 MB\u001b[0m \u001b[31m2.7 MB/s\u001b[0m eta \u001b[36m0:00:00\u001b[0m\n",
            "\u001b[2K   \u001b[90m━━━━━━━━━━━━━━━━━━━━━━━━━━━━━━━━━━━━━━━━\u001b[0m \u001b[32m211.5/211.5 MB\u001b[0m \u001b[31m7.2 MB/s\u001b[0m eta \u001b[36m0:00:00\u001b[0m\n",
            "\u001b[2K   \u001b[90m━━━━━━━━━━━━━━━━━━━━━━━━━━━━━━━━━━━━━━━━\u001b[0m \u001b[32m56.3/56.3 MB\u001b[0m \u001b[31m13.1 MB/s\u001b[0m eta \u001b[36m0:00:00\u001b[0m\n",
            "\u001b[2K   \u001b[90m━━━━━━━━━━━━━━━━━━━━━━━━━━━━━━━━━━━━━━━━\u001b[0m \u001b[32m127.9/127.9 MB\u001b[0m \u001b[31m7.4 MB/s\u001b[0m eta \u001b[36m0:00:00\u001b[0m\n",
            "\u001b[2K   \u001b[90m━━━━━━━━━━━━━━━━━━━━━━━━━━━━━━━━━━━━━━━━\u001b[0m \u001b[32m207.5/207.5 MB\u001b[0m \u001b[31m5.8 MB/s\u001b[0m eta \u001b[36m0:00:00\u001b[0m\n",
            "\u001b[2K   \u001b[90m━━━━━━━━━━━━━━━━━━━━━━━━━━━━━━━━━━━━━━━━\u001b[0m \u001b[32m21.1/21.1 MB\u001b[0m \u001b[31m75.9 MB/s\u001b[0m eta \u001b[36m0:00:00\u001b[0m\n",
            "\u001b[2K   \u001b[90m━━━━━━━━━━━━━━━━━━━━━━━━━━━━━━━━━━━━━━━━\u001b[0m \u001b[32m194.8/194.8 kB\u001b[0m \u001b[31m17.9 MB/s\u001b[0m eta \u001b[36m0:00:00\u001b[0m\n",
            "\u001b[2K   \u001b[90m━━━━━━━━━━━━━━━━━━━━━━━━━━━━━━━━━━━━━━━━\u001b[0m \u001b[32m117.7/117.7 kB\u001b[0m \u001b[31m10.7 MB/s\u001b[0m eta \u001b[36m0:00:00\u001b[0m\n",
            "\u001b[2K   \u001b[90m━━━━━━━━━━━━━━━━━━━━━━━━━━━━━━━━━━━━━━━━\u001b[0m \u001b[32m739.1/739.1 kB\u001b[0m \u001b[31m47.1 MB/s\u001b[0m eta \u001b[36m0:00:00\u001b[0m\n",
            "\u001b[?25h"
          ]
        }
      ]
    },
    {
      "cell_type": "code",
      "source": [
        "from huggingface_hub import notebook_login\n",
        "\n",
        "notebook_login()"
      ],
      "metadata": {
        "colab": {
          "base_uri": "https://localhost:8080/",
          "height": 17,
          "referenced_widgets": [
            "0a3bccbe9f244d19a80f47d4f5a13792",
            "f3aa44ae51b245abaeb5c765f21322ca",
            "b8dfe2174c3b4a3182f5f68991302357",
            "858c579443a643868e0b6a53ec7233f4",
            "4e260a4f03e4430695a7c28ee70d89a9",
            "89987772443e49a5a008601f150ce69f",
            "968aecee669a4a50aff4a02ef218fdc3",
            "f703d1b64b7b4183b6cabcf6e147a903",
            "bdd97419ec084457b3c006090a27ee6d",
            "b469321470264147b494b4dcc278545f",
            "7889eb99043443eb8844a3e14668fd0b",
            "1b8e4be41f8f46b1b0dc0d69b350d9e0",
            "7455ac1f63fa40debf3ff3c2bca80c29",
            "b0b9ea2d53bb4b968fd2eb1bd922cb6c",
            "36918007036149b78c4b427694bc7202",
            "36db89ef47af4306a5b906d2f4e41318",
            "a20c5fb0593341119cd3cfaf416e6631",
            "818ed2bbab7d4850b8b61fb1834b7872",
            "7567e1ef60ee47ccb98b923a154a9a70",
            "c173a5db40f64772a6388bc9cb49d952"
          ]
        },
        "id": "YmUG_J8UwiU4",
        "outputId": "cb5da952-1229-4f13-e062-5ddc5a4dc8ae"
      },
      "execution_count": null,
      "outputs": [
        {
          "output_type": "display_data",
          "data": {
            "text/plain": [
              "VBox(children=(HTML(value='<center> <img\\nsrc=https://huggingface.co/front/assets/huggingface_logo-noborder.sv…"
            ],
            "application/vnd.jupyter.widget-view+json": {
              "version_major": 2,
              "version_minor": 0,
              "model_id": "0a3bccbe9f244d19a80f47d4f5a13792"
            }
          },
          "metadata": {}
        }
      ]
    },
    {
      "cell_type": "markdown",
      "source": [
        "## Dataset Loading"
      ],
      "metadata": {
        "id": "pemK66uHxQbN"
      }
    },
    {
      "cell_type": "code",
      "source": [
        "from datasets import load_dataset, Audio\n",
        "\n",
        "dataset = load_dataset(\"facebook/voxpopuli\", \"nl\", split=\"train\")    # nl >> Dutch language"
      ],
      "metadata": {
        "colab": {
          "base_uri": "https://localhost:8080/",
          "height": 723,
          "referenced_widgets": [
            "ad71438bd21d424195a1180b21d5f372",
            "5c834368d59a4342bb946ef9a37df6b5",
            "ffbfe2cb487e443797a9dc906e5bd566",
            "52211fc8f30c410982e295d393feac61",
            "8fb3da077cc043a3a1b3dd6ddbdf8051",
            "451920796b21447bb76d0bff7750ad9e",
            "a769a45e3fdf4ccaab441a5f35adb00c",
            "408990fc10aa41bb8649dd93775b5092",
            "c3f98d16f3de426db156e731decaddc1",
            "3827fa31be2d45068c30e9ca7fed1c03",
            "83d8f6abacdc47fd92319997addc01fb",
            "b7f82009f3f84c74b98ea1ffd0bc01d7",
            "461472c6a8a04efc82452291fbfadc17",
            "92dba970c8754cdb8950df367497eae3",
            "5255fb0f851f4e7d8ad6a4b9deed03ff",
            "dafa743105724765b8f9ba368dbe5826",
            "30ff36d2c66e4650a91318cde9266f7d",
            "3938ba27698246f7a13ea24356263b87",
            "c70eac4150774609a2c6c394c36db7ed",
            "cf8a1f046ef9417ca4f5937201e0863e",
            "505f4162355f4001b86e2671060d3260",
            "00e9b97e9b5d4eb4bd05ad39605a36cc",
            "17a4e852f2b24fd7befa9bae11a958c7",
            "8e18c8740259452399788302f527f1ba",
            "109c0fe1f8e64733860c1dc46f660069",
            "951b3833c30c424b947ab8db3131d4bd",
            "dae5588ae134481e9a79c98defe97733",
            "05650181821546bf9e3bf888117ace29",
            "d9d8a154bdb441d59367a62818650772",
            "638ffe7525d6442290ba0fbc04a88e2f",
            "700625e4743b44ce85a4d2591dc4cb9b",
            "3266e9e9399f47b4a3946dd8faaabb4a",
            "64f6a5e455274025a0bd6c9cddf57481",
            "7e5b1848ad754d809b5bd729e012d368",
            "5bd43c5569974ccaa1f797e312fad7a8",
            "7a146a3fb6274052954058967ac3d5bd",
            "3f7c69ed10b24270bcbc291cdd72c165",
            "8936303eea40402387e91155733cbab1",
            "eb2af661685947ffb2a593eac46a40e6",
            "3fba11b33a8c4f3d962e2d863d015147",
            "4ace1d2eb6f041aeb2c8f76d535c33bf",
            "bbc2eeb20dd24f4795ef6eb6675a8a74",
            "3dfc5e531d1e4ff89bcd146641d38d3e",
            "20c4160b4a4540528e7f37437bf51318",
            "55846de18f874e75bde6910ab51003fe",
            "050c97df00304b4c93c6a45ee464f68c",
            "a909424d1a8445ccbb0faa474b2c8313",
            "485353e766b042e2bb07b2a12d0eb34c",
            "9212b4dcee184aedbff9c1e567d79fa0",
            "303c217bfb024b84b8fc04ad85ba897e",
            "aad4f34b60bb4dfe93dce7f5db5c8552",
            "ab351ab972204f6c917734968b91df69",
            "bd57e5c678a5488eb2902f2230317bc7",
            "6efb7a369dfb48d1a656b7e64ad0a3b6",
            "d5d32ed50633454080bcad4799184f73",
            "5576635b6f694d5889bd0e1a961dad5b",
            "e287ee2c13b14006a70ef0e9b5e4a181",
            "40a140019e3146cb87cb36a54347bfc8",
            "e83926961cb845b9a775b8962b9a5b49",
            "a7a55f6a8740424b85ae2b11b0a474f3",
            "0c8e22652dab48f6b9f132fbd28c8155",
            "8f788cb0df164c658be8b7cfbfc630ae",
            "938a2f5ae0f9491f88ab62ab80af95ec",
            "01451f5ab9c5456da880d23269271862",
            "62b05a9f74ce463db8d000bace0a62cf",
            "5c09ac8e52a84b1ca59dcac9d0e75ece",
            "1bd91a0c62334e84b0e5e8a47ab592c6",
            "7da97a5c695441fab912850b81e78304",
            "6ffccfa4aa034baa94e5d71118e2df8b",
            "58250f4b449e496cb04e6a7bce010fd2",
            "77b604a805f74d13bfa55d343a1f1054",
            "440e08a413d34036999b3a3e44165c8b",
            "fb12eb34fdd74a8babc9d628ab0bae79",
            "93212aac08d64170a2e64b8350377809",
            "b7a55cf55c664043a3f28d90609c957e",
            "77533e38db254c789664e66248882ec1",
            "46487efd53fa4c3ab76d62856250edde",
            "41cee453425f451695c354e9eab66f7a",
            "7eccec80b04846c7aa7d14213e98315d",
            "fe24dbbe3fbd4dae860df32c61289745",
            "6117c3589b1848efb80e373d7ad87c58",
            "2f02a471c687424691e44a6d36054fc1",
            "d34c3da3c25347bc8e322dbc9ab8ef3e",
            "8b4f89a2654f4cf5ad8af8814a464a17",
            "452d0794cbcd4e8b9297932b17ce9d7c",
            "85ba469c2669451ca5eb16d8f89adce8",
            "c8cc74a35c5644d78e891a4640115b86",
            "726aab9ca3a94ca38777b79a3e3c9206",
            "858cd69070bf422292ed66c429cbde46",
            "3fa07913e88f44dbb0d342f94e15c4de",
            "588971fe5db745578a19b4bd59dcdf43",
            "f7a3ccd0da394f328c570b3713892f69",
            "fcb9a1bdfbb04e4c96359d5c12b2dcdf",
            "27c3aeadbd5b47049118631bdd9777a1",
            "ad9dfd82707e4f60bae8040f4ff52788",
            "5a26dcb92ee64e539cc51416d0ed5318",
            "4497e3561b8242aa9387a477ddfdca38",
            "aa8879a9f2164fe5a6d1fc8019b8d2ad",
            "72457160e3604e1db0217cfe81931a22",
            "7d1bac041111433b9aad0bf97261697d",
            "b0751641951045e5bbff7608e1d86679",
            "4a02876400d74fdcbce11e34079e9f96",
            "64624f31e17c47b1a12d3919fa6bbafb",
            "29295454985a4ed4a6b8a0858028349a",
            "a8af8315edf24653a8b4b0fad7578d64",
            "b4e33aaa0f5c4cff96d5510d417fc05e",
            "70489e541608490fa36f4ea429763b16",
            "e30d5af2800443cdbd54af7283f71c1e",
            "6650511baf9342ba89a50f0d8a390266",
            "0f2983b5ff024e6786b1aa4924f40201",
            "601ebcd8b7884069858d7461e6d7b166",
            "6529b644686b479a9a90bde8c435a71f",
            "0aef7e5bbec94b01a3906cf12bd2c2ac",
            "ab0471528f9e413999f80698bbc0b3e3",
            "14f3e2e7e7464f0c8563062217cfc415",
            "cb040e0704054277bc4568fa9c7a9d04",
            "518eb3a929084ad380ebf1186380c24d",
            "5a0635da9592424eb3f0fc0b920931b0",
            "ac389a17618d4462a71368df39dea0f8",
            "3c04010cdafb4429a9421c534b82869d",
            "c929de7bca6c4c2e9a03a627987464db",
            "df1e2aa24c1a41e1b03b7e6b70d48324",
            "b8e5c175c3ec4b028bf8c5cbc8165d81",
            "1e93f24b0deb405987550100893ea5bc",
            "f7fceeccf08b445a8ba78cfd27fad924",
            "38be56fc623d4680b0b685c9b15091e2",
            "7f4bf05291fc49129aca1ae436c4985b",
            "da7ce822dc02464ab656d9be24ffe394",
            "5cc3cca0173c45f7937fc9ebcc4e93ef",
            "f329803715ea44809f17427774b97b0e",
            "b176a39ac615427c8d037be7976b43b8",
            "7402927daf1d4e6d914956d4a13d372e",
            "78adaa077ff3421daf50a2b3bf72f9f5",
            "5124fbbf88504a85a0c8f2bce94aa419",
            "20d29637d9b44e7f90ba65e363dc1098",
            "4ee78e81fd7449cba75197690668bbb2",
            "4e27b6eff6de429dbbc4c9a194c0e779",
            "76279e2b95514781a30ae083227feaea",
            "22925e77ff1c458983ec7f1f5234e3a7",
            "5efab968d7e14a20857d5f91fa96a185",
            "107d9fa2dc5b488891dab3bd0c8a7dac",
            "79357d8187c345c087417fffad581576",
            "417fa7b1753c44bcb6ef6fc53367d79f",
            "007f4b38db2d42be82ec088acc5ff497",
            "f5e679a5505443ac88d627d1e662bd1e",
            "69abd1f31d7b4e1bb24246507bfda1b3",
            "329260cb49da42a1a9c9a511baf2a453",
            "cddb475b495e4f549eaaee9d77eb4530",
            "296a4d381c91499db2d6106331b49611",
            "2fa397f36a0748eba442b44056d3f67f",
            "7b1a69b13b204dcc84af6208c2f1c234",
            "342d1f0619e1449fa40eaa9b293d746c",
            "0ec8dfdfa6ff409fa25f05363ce8274f",
            "e09eda6811b44eb195fc2cec8cba2705",
            "c31161513d6e46d5b4a1d91a3dae863a",
            "6ddfe0170977489bb8523dc7f50b6e8b",
            "df6ce1f8b0a840f1a3a5f440704730b2",
            "43567b4ffc8544b6b8edb042b3ca64c2",
            "c3a7025bcd304fe580695936dfd777c2",
            "ce2ff29f30e24cd4a4f4401bdf80c22d",
            "92c259945803421c8c7a29ed02d26ea8",
            "9ba03e0f7ae941348476bf2ca798765f",
            "4d6629e84c9b44a2a76ae672ec6872e7",
            "7ba1a5ecf1ba451f8aa3fe2f1727e4fc",
            "4d383df19c5b41869111f659329f21cb",
            "c3ba09cae8f6419b9cc42ca5e6fb364a",
            "80cccfd065134f48933bbe3c7baadb1f",
            "fc2b63a0e2f24d2fb4582c271e98b8fe",
            "6540e7caf3b949ed8ceccd3d82034e14",
            "137bcda4452643c39ea4c000ba6f1695",
            "fc8532f8f937487f8fd0705410a7343f",
            "f0ecb1125b8c448fb16e7451ea08fb3e",
            "bba7654b07754236b3e7edfde3cd8215",
            "a7455927eb6b4e4c928328334bf9d662",
            "258ba23b4dae4866b856c0a33be2c176",
            "01d179c62c9840d88e679b24c334b134"
          ]
        },
        "id": "C_CYeQE6wiQx",
        "outputId": "4272f8d4-cbb6-4e26-aa6e-c91cfca4b066"
      },
      "execution_count": null,
      "outputs": [
        {
          "output_type": "stream",
          "name": "stderr",
          "text": [
            "/usr/local/lib/python3.11/dist-packages/huggingface_hub/utils/_auth.py:94: UserWarning: \n",
            "The secret `HF_TOKEN` does not exist in your Colab secrets.\n",
            "To authenticate with the Hugging Face Hub, create a token in your settings tab (https://huggingface.co/settings/tokens), set it as secret in your Google Colab and restart your session.\n",
            "You will be able to reuse this secret in all of your notebooks.\n",
            "Please note that authentication is recommended but still optional to access public models or datasets.\n",
            "  warnings.warn(\n"
          ]
        },
        {
          "output_type": "display_data",
          "data": {
            "text/plain": [
              "README.md:   0%|          | 0.00/10.7k [00:00<?, ?B/s]"
            ],
            "application/vnd.jupyter.widget-view+json": {
              "version_major": 2,
              "version_minor": 0,
              "model_id": "ad71438bd21d424195a1180b21d5f372"
            }
          },
          "metadata": {}
        },
        {
          "output_type": "display_data",
          "data": {
            "text/plain": [
              "voxpopuli.py:   0%|          | 0.00/8.84k [00:00<?, ?B/s]"
            ],
            "application/vnd.jupyter.widget-view+json": {
              "version_major": 2,
              "version_minor": 0,
              "model_id": "b7f82009f3f84c74b98ea1ffd0bc01d7"
            }
          },
          "metadata": {}
        },
        {
          "name": "stdout",
          "output_type": "stream",
          "text": [
            "The repository for facebook/voxpopuli contains custom code which must be executed to correctly load the dataset. You can inspect the repository content at https://hf.co/datasets/facebook/voxpopuli.\n",
            "You can avoid this prompt in future by passing the argument `trust_remote_code=True`.\n",
            "\n",
            "Do you wish to run the custom code? [y/N] y\n"
          ]
        },
        {
          "output_type": "display_data",
          "data": {
            "text/plain": [
              "n_files.json:   0%|          | 0.00/1.29k [00:00<?, ?B/s]"
            ],
            "application/vnd.jupyter.widget-view+json": {
              "version_major": 2,
              "version_minor": 0,
              "model_id": "17a4e852f2b24fd7befa9bae11a958c7"
            }
          },
          "metadata": {}
        },
        {
          "output_type": "display_data",
          "data": {
            "text/plain": [
              "asr_train.tsv:   0%|          | 0.00/7.09M [00:00<?, ?B/s]"
            ],
            "application/vnd.jupyter.widget-view+json": {
              "version_major": 2,
              "version_minor": 0,
              "model_id": "7e5b1848ad754d809b5bd729e012d368"
            }
          },
          "metadata": {}
        },
        {
          "output_type": "display_data",
          "data": {
            "text/plain": [
              "asr_dev.tsv:   0%|          | 0.00/422k [00:00<?, ?B/s]"
            ],
            "application/vnd.jupyter.widget-view+json": {
              "version_major": 2,
              "version_minor": 0,
              "model_id": "55846de18f874e75bde6910ab51003fe"
            }
          },
          "metadata": {}
        },
        {
          "output_type": "display_data",
          "data": {
            "text/plain": [
              "asr_test.tsv:   0%|          | 0.00/405k [00:00<?, ?B/s]"
            ],
            "application/vnd.jupyter.widget-view+json": {
              "version_major": 2,
              "version_minor": 0,
              "model_id": "5576635b6f694d5889bd0e1a961dad5b"
            }
          },
          "metadata": {}
        },
        {
          "output_type": "display_data",
          "data": {
            "text/plain": [
              "train_part_0.tar.gz:   0%|          | 0.00/1.31G [00:00<?, ?B/s]"
            ],
            "application/vnd.jupyter.widget-view+json": {
              "version_major": 2,
              "version_minor": 0,
              "model_id": "1bd91a0c62334e84b0e5e8a47ab592c6"
            }
          },
          "metadata": {}
        },
        {
          "output_type": "display_data",
          "data": {
            "text/plain": [
              "train_part_1.tar.gz:   0%|          | 0.00/1.35G [00:00<?, ?B/s]"
            ],
            "application/vnd.jupyter.widget-view+json": {
              "version_major": 2,
              "version_minor": 0,
              "model_id": "41cee453425f451695c354e9eab66f7a"
            }
          },
          "metadata": {}
        },
        {
          "output_type": "display_data",
          "data": {
            "text/plain": [
              "train_part_2.tar.gz:   0%|          | 0.00/1.35G [00:00<?, ?B/s]"
            ],
            "application/vnd.jupyter.widget-view+json": {
              "version_major": 2,
              "version_minor": 0,
              "model_id": "858cd69070bf422292ed66c429cbde46"
            }
          },
          "metadata": {}
        },
        {
          "output_type": "display_data",
          "data": {
            "text/plain": [
              "train_part_3.tar.gz:   0%|          | 0.00/1.34G [00:00<?, ?B/s]"
            ],
            "application/vnd.jupyter.widget-view+json": {
              "version_major": 2,
              "version_minor": 0,
              "model_id": "7d1bac041111433b9aad0bf97261697d"
            }
          },
          "metadata": {}
        },
        {
          "output_type": "display_data",
          "data": {
            "text/plain": [
              "train_part_4.tar.gz:   0%|          | 0.00/255M [00:00<?, ?B/s]"
            ],
            "application/vnd.jupyter.widget-view+json": {
              "version_major": 2,
              "version_minor": 0,
              "model_id": "601ebcd8b7884069858d7461e6d7b166"
            }
          },
          "metadata": {}
        },
        {
          "output_type": "display_data",
          "data": {
            "text/plain": [
              "dev_part_0.tar.gz:   0%|          | 0.00/321M [00:00<?, ?B/s]"
            ],
            "application/vnd.jupyter.widget-view+json": {
              "version_major": 2,
              "version_minor": 0,
              "model_id": "df1e2aa24c1a41e1b03b7e6b70d48324"
            }
          },
          "metadata": {}
        },
        {
          "output_type": "display_data",
          "data": {
            "text/plain": [
              "test_part_0.tar.gz:   0%|          | 0.00/319M [00:00<?, ?B/s]"
            ],
            "application/vnd.jupyter.widget-view+json": {
              "version_major": 2,
              "version_minor": 0,
              "model_id": "78adaa077ff3421daf50a2b3bf72f9f5"
            }
          },
          "metadata": {}
        },
        {
          "output_type": "display_data",
          "data": {
            "text/plain": [
              "Generating train split: 0 examples [00:00, ? examples/s]"
            ],
            "application/vnd.jupyter.widget-view+json": {
              "version_major": 2,
              "version_minor": 0,
              "model_id": "007f4b38db2d42be82ec088acc5ff497"
            }
          },
          "metadata": {}
        },
        {
          "output_type": "display_data",
          "data": {
            "text/plain": [
              "Generating validation split: 0 examples [00:00, ? examples/s]"
            ],
            "application/vnd.jupyter.widget-view+json": {
              "version_major": 2,
              "version_minor": 0,
              "model_id": "c31161513d6e46d5b4a1d91a3dae863a"
            }
          },
          "metadata": {}
        },
        {
          "output_type": "display_data",
          "data": {
            "text/plain": [
              "Generating test split: 0 examples [00:00, ? examples/s]"
            ],
            "application/vnd.jupyter.widget-view+json": {
              "version_major": 2,
              "version_minor": 0,
              "model_id": "c3ba09cae8f6419b9cc42ca5e6fb364a"
            }
          },
          "metadata": {}
        }
      ]
    },
    {
      "cell_type": "code",
      "source": [
        "len(dataset)"
      ],
      "metadata": {
        "colab": {
          "base_uri": "https://localhost:8080/"
        },
        "id": "cjAjtPV_Hvi0",
        "outputId": "d87071c1-9eed-4f4a-e820-c44a590cf082"
      },
      "execution_count": null,
      "outputs": [
        {
          "output_type": "execute_result",
          "data": {
            "text/plain": [
              "20968"
            ]
          },
          "metadata": {},
          "execution_count": 5
        }
      ]
    },
    {
      "cell_type": "code",
      "source": [
        "# convert sampling rate to 16kHz to be suitable for the model\n",
        "dataset = dataset.cast_column(\"audio\", Audio(sampling_rate=16000))"
      ],
      "metadata": {
        "id": "BaTCBfCRwiOs"
      },
      "execution_count": null,
      "outputs": []
    },
    {
      "cell_type": "markdown",
      "source": [
        "## Data Pre-processing"
      ],
      "metadata": {
        "id": "rQLY7cJ3xw-g"
      }
    },
    {
      "cell_type": "code",
      "source": [
        "# load the processor that contains both tokenizer, and feature extractor.\n",
        "from transformers import SpeechT5Processor\n",
        "\n",
        "checkpoint = \"microsoft/speecht5_tts\"\n",
        "processor = SpeechT5Processor.from_pretrained(checkpoint)"
      ],
      "metadata": {
        "colab": {
          "base_uri": "https://localhost:8080/",
          "height": 177,
          "referenced_widgets": [
            "a54859bfd2484da387015e15e3ce82ce",
            "9cac5b3ba4ce45bca74b96a0bd11f88b",
            "8cd47d0840e64419bb73392e20d70abf",
            "50a9843974e24eacb95b7ffff048d045",
            "dd94b7b8305c42fcb5bcb64449629ec3",
            "5a8c4b310f3e4fdf8544272bb45d0845",
            "604f34e26f8f442785b795eadbc6e646",
            "2c372c2e6f31434b8c10815d4a19600a",
            "025d2120ef344f449cf361d234158e5a",
            "7ee861650ba342e090aaef07b93d00e4",
            "46e066c2eed840bc8e4699868e9834ca",
            "aac08006e7484582b4220e29f23d68e2",
            "e575231e64c7481c86fbcd0d29814738",
            "623c773e35d84030b858df19a32321b9",
            "1a8038f66aae4bc69be85763d783e5d0",
            "df763b4f1605481f984c9ad88f8418c9",
            "57e2e83c367a4914935fd8addbbbeca8",
            "63b0f1cb5b8945299814f0ecef116233",
            "01e5e30731654654b154ac87de3c9580",
            "f933792d72364aaf9912fb290f56245f",
            "f8659cf7b4ff42ca8088ea4b2ed62bd7",
            "7e0d084afb664f60aa4a131f57b39543",
            "1cdab3f0ad15417b9f487272c970c686",
            "35f7d47d0b514cfab34bc1438d5d4890",
            "6d573f890d9348f1b9b551cefb54659a",
            "0ac1474c4fb6417aa7cf2753074509b5",
            "c8a568b131594330acf12fc1c83e921a",
            "d147314ff211403da134c57d606063fc",
            "7c972fffbbd2461da9d9ba971a451f47",
            "8693a2bbe37b4389a1609a94f8463759",
            "2f44dc2fe455499c86927996af71b617",
            "81cf7178e2884069bd5e2f62603597ef",
            "99276a52a68649cfac400c9a5b5e2ab1",
            "3e8f6170ec1f48f99700889458b69ba8",
            "39568bf5c17c4ef98809c19eccc300be",
            "15840e00271d4d91bb101082a5a3c9b9",
            "76ec1eff4ce4451c8a63af41533a2e6b",
            "a418d2817dff4e8dbd349acb33c6768e",
            "f328b08e1c7b4545b02129ac959fb582",
            "ba29bdbfe01e4f758d89c3ca2d2a5b57",
            "2209a9cb71ae4f25beec2bc29644a0f8",
            "ba8aa041ce5944c29e34f1d6ebf6ef5e",
            "33f05708e91a462589e02fb967e5e268",
            "d29c93aac0804baabd40d8a33e8b134e",
            "1de81930d0fa41ee932d2e95a86e24d4",
            "94057cd0316b48438adffeda56f0df0f",
            "e578bed602d241149425b58a6865bb17",
            "05f15f129f2b43bc85c8bc6dacee3733",
            "5fd6d92a40c943e4a4913bf84b997a06",
            "3ffd472c627c4b888976772e5d3e2639",
            "426c47bcbf96472fb1105421e78e0345",
            "8e456178ce834035827a5f2b0664e4f7",
            "4e57bf9011d244cc9067c7458fefe30f",
            "9ec213bfbbef4dd0ae701f2729b2c1a2",
            "fc13ef7d848a4ec2a00b5a3d53883332"
          ]
        },
        "id": "lmUIcsFiwiMk",
        "outputId": "271008ed-45e1-49ce-95a6-2f0b3d1e10ee"
      },
      "execution_count": null,
      "outputs": [
        {
          "output_type": "display_data",
          "data": {
            "text/plain": [
              "preprocessor_config.json:   0%|          | 0.00/433 [00:00<?, ?B/s]"
            ],
            "application/vnd.jupyter.widget-view+json": {
              "version_major": 2,
              "version_minor": 0,
              "model_id": "a54859bfd2484da387015e15e3ce82ce"
            }
          },
          "metadata": {}
        },
        {
          "output_type": "display_data",
          "data": {
            "text/plain": [
              "tokenizer_config.json:   0%|          | 0.00/232 [00:00<?, ?B/s]"
            ],
            "application/vnd.jupyter.widget-view+json": {
              "version_major": 2,
              "version_minor": 0,
              "model_id": "aac08006e7484582b4220e29f23d68e2"
            }
          },
          "metadata": {}
        },
        {
          "output_type": "display_data",
          "data": {
            "text/plain": [
              "spm_char.model:   0%|          | 0.00/238k [00:00<?, ?B/s]"
            ],
            "application/vnd.jupyter.widget-view+json": {
              "version_major": 2,
              "version_minor": 0,
              "model_id": "1cdab3f0ad15417b9f487272c970c686"
            }
          },
          "metadata": {}
        },
        {
          "output_type": "display_data",
          "data": {
            "text/plain": [
              "added_tokens.json:   0%|          | 0.00/40.0 [00:00<?, ?B/s]"
            ],
            "application/vnd.jupyter.widget-view+json": {
              "version_major": 2,
              "version_minor": 0,
              "model_id": "3e8f6170ec1f48f99700889458b69ba8"
            }
          },
          "metadata": {}
        },
        {
          "output_type": "display_data",
          "data": {
            "text/plain": [
              "special_tokens_map.json:   0%|          | 0.00/234 [00:00<?, ?B/s]"
            ],
            "application/vnd.jupyter.widget-view+json": {
              "version_major": 2,
              "version_minor": 0,
              "model_id": "1de81930d0fa41ee932d2e95a86e24d4"
            }
          },
          "metadata": {}
        }
      ]
    },
    {
      "cell_type": "markdown",
      "source": [
        "#### Text Cleanup for Tokenization"
      ],
      "metadata": {
        "id": "rcCZ39_nyJ_u"
      }
    },
    {
      "cell_type": "code",
      "source": [
        "tokenizer = processor.tokenizer"
      ],
      "metadata": {
        "id": "LFzWBCKEwiKe"
      },
      "execution_count": null,
      "outputs": []
    },
    {
      "cell_type": "code",
      "source": [
        "dataset[0]"
      ],
      "metadata": {
        "colab": {
          "base_uri": "https://localhost:8080/"
        },
        "id": "FqHakPUbwiIP",
        "outputId": "d037113e-0fc8-43b3-9b5d-0ffcac5f6b29"
      },
      "execution_count": null,
      "outputs": [
        {
          "output_type": "execute_result",
          "data": {
            "text/plain": [
              "{'audio_id': '20100210-0900-PLENARY-3-nl_20100210-09:06:43_4',\n",
              " 'language': 9,\n",
              " 'audio': {'path': '/root/.cache/huggingface/datasets/downloads/extracted/94ad18362007da652ce6c405177dd65cc2711a93d5a8f5a6e07b111bd2c47d29/train_part_0/20100210-0900-PLENARY-3-nl_20100210-09:06:43_4.wav',\n",
              "  'array': array([ 4.27246094e-04,  1.31225586e-03,  1.03759766e-03, ...,\n",
              "         -9.15527344e-05,  7.62939453e-04, -2.44140625e-04]),\n",
              "  'sampling_rate': 16000},\n",
              " 'raw_text': 'Dat kan naar mijn gevoel alleen met een brede meerderheid die wij samen zoeken.',\n",
              " 'normalized_text': 'dat kan naar mijn gevoel alleen met een brede meerderheid die wij samen zoeken.',\n",
              " 'gender': 'female',\n",
              " 'speaker_id': '1122',\n",
              " 'is_gold_transcript': True,\n",
              " 'accent': 'None'}"
            ]
          },
          "metadata": {},
          "execution_count": 9
        }
      ]
    },
    {
      "cell_type": "code",
      "source": [
        "# SpeechT5 tokenizer doesn’t have any tokens for numbers so we will use normalized_text as the numbers are written out as text\n",
        "# SpeechT5 was trained on the English language, it may not recognize certain characters in the Dutch dataset and convert them to <unk> tokens.\n",
        "# However, in Dutch, certain characters like à are used to stress syllables. In order to preserve the meaning of the text, we can replace this character with a regular a."
      ],
      "metadata": {
        "id": "4ybc1FRawiGH"
      },
      "execution_count": null,
      "outputs": []
    },
    {
      "cell_type": "code",
      "source": [
        "# a function to extract all characters in the dataset\n",
        "def extract_all_chars(batch):\n",
        "    all_text = \" \".join(batch[\"normalized_text\"])\n",
        "    vocab = list(set(all_text))\n",
        "    return {\"vocab\": [vocab], \"all_text\": [all_text]}"
      ],
      "metadata": {
        "id": "MGKWgzkAwiEK"
      },
      "execution_count": null,
      "outputs": []
    },
    {
      "cell_type": "code",
      "source": [
        "vocabs = dataset.map(\n",
        "    extract_all_chars,\n",
        "    batched=True,\n",
        "    batch_size=-1,\n",
        "    keep_in_memory=True,\n",
        "    remove_columns=dataset.column_names,\n",
        ")"
      ],
      "metadata": {
        "colab": {
          "base_uri": "https://localhost:8080/",
          "height": 49,
          "referenced_widgets": [
            "81d6d44206734ff68aeda5416fca8275",
            "de462a3ad1104b6586725565b8c39430",
            "275a6c29d2104d6e88096ac497b5eaf0",
            "5f56f59249b44a198be9f960fbd1b966",
            "35189b34415b41f2af4baf79038b268f",
            "bca4ea993f8b461e8b44ea25dd52e094",
            "de7b2f3789a94e8b8ca2c0bc2ba5acf9",
            "3511579435864d7ba35a9a0dffc20668",
            "cb918eea53924b978d98579a52c0d873",
            "d8ca2418410c4833a2e2f4ee0842ee2c",
            "ad59d67f53da4dccae53e606c31a15a4"
          ]
        },
        "id": "kcJD3xppzJP8",
        "outputId": "332d52bd-09ee-4cd1-9726-b3cda70deaf4"
      },
      "execution_count": null,
      "outputs": [
        {
          "output_type": "display_data",
          "data": {
            "text/plain": [
              "Map:   0%|          | 0/20968 [00:00<?, ? examples/s]"
            ],
            "application/vnd.jupyter.widget-view+json": {
              "version_major": 2,
              "version_minor": 0,
              "model_id": "81d6d44206734ff68aeda5416fca8275"
            }
          },
          "metadata": {}
        }
      ]
    },
    {
      "cell_type": "code",
      "source": [
        "vocabs"
      ],
      "metadata": {
        "colab": {
          "base_uri": "https://localhost:8080/"
        },
        "id": "EfFJsqJ2zhZU",
        "outputId": "68ef6c8b-663e-48cd-8b73-e4bb761b9e83"
      },
      "execution_count": null,
      "outputs": [
        {
          "output_type": "execute_result",
          "data": {
            "text/plain": [
              "Dataset({\n",
              "    features: ['vocab', 'all_text'],\n",
              "    num_rows: 1\n",
              "})"
            ]
          },
          "metadata": {},
          "execution_count": 13
        }
      ]
    },
    {
      "cell_type": "code",
      "source": [
        "dataset_vocab = set(vocabs[\"vocab\"][0])    # all chars in the dataset\n",
        "tokenizer_vocab = {k for k, _ in tokenizer.get_vocab().items()}    # chars supportted by the tokenizer (en-lang)"
      ],
      "metadata": {
        "id": "sZHghDgFwiB2"
      },
      "execution_count": null,
      "outputs": []
    },
    {
      "cell_type": "code",
      "source": [
        "dataset_vocab - tokenizer_vocab"
      ],
      "metadata": {
        "colab": {
          "base_uri": "https://localhost:8080/"
        },
        "id": "corFxfjswh9Z",
        "outputId": "7fc4cf62-ab65-4352-8c26-f444878ff88a"
      },
      "execution_count": null,
      "outputs": [
        {
          "output_type": "execute_result",
          "data": {
            "text/plain": [
              "{' ', 'à', 'ç', 'è', 'ë', 'í', 'ï', 'ö', 'ü'}"
            ]
          },
          "metadata": {},
          "execution_count": 15
        }
      ]
    },
    {
      "cell_type": "code",
      "source": [
        "replacements = [\n",
        "    (\"à\", \"a\"),\n",
        "    (\"ç\", \"c\"),\n",
        "    (\"è\", \"e\"),\n",
        "    (\"ë\", \"e\"),\n",
        "    (\"í\", \"i\"),\n",
        "    (\"ï\", \"i\"),\n",
        "    (\"ö\", \"o\"),\n",
        "    (\"ü\", \"u\"),\n",
        "]\n",
        "\n",
        "def cleanup_text(inputs):\n",
        "    for src, dst in replacements:\n",
        "        inputs[\"normalized_text\"] = inputs[\"normalized_text\"].replace(src, dst)\n",
        "    return inputs\n",
        "\n",
        "dataset = dataset.map(cleanup_text)"
      ],
      "metadata": {
        "colab": {
          "base_uri": "https://localhost:8080/",
          "height": 49,
          "referenced_widgets": [
            "4b25d392e4374aedaad79e360a61eef0",
            "28a88d5fcb1344e5af3af6e7bbd5ad38",
            "478d5b00c6a04733b93e85f0ba906a34",
            "8960743ce7a546309bcaad299ae8dc36",
            "707533d858b8406cb4900408cd8e4aee",
            "ccc1014333b74160a8d6095e650751d9",
            "8a90e510c07042508623eb39e0cbcc72",
            "bb3f70e458de4fc584be7c6d455a7d01",
            "b1b0d0c3205549a7a3cd9b61d5cbf7db",
            "47cb11539d5b4d7ebc9dcc90e378fc2c",
            "e0dd8f14ee384778b6c9eda8075dc4df"
          ]
        },
        "id": "YgWGaV7iwh7N",
        "outputId": "77a4a432-8f3c-48d2-e0b2-5d595a1a2945"
      },
      "execution_count": null,
      "outputs": [
        {
          "output_type": "display_data",
          "data": {
            "text/plain": [
              "Map:   0%|          | 0/20968 [00:00<?, ? examples/s]"
            ],
            "application/vnd.jupyter.widget-view+json": {
              "version_major": 2,
              "version_minor": 0,
              "model_id": "4b25d392e4374aedaad79e360a61eef0"
            }
          },
          "metadata": {}
        }
      ]
    },
    {
      "cell_type": "markdown",
      "source": [
        "#### Speakers"
      ],
      "metadata": {
        "id": "NDdT8TtN0IJ0"
      }
    },
    {
      "cell_type": "code",
      "source": [
        "from collections import defaultdict\n",
        "\n",
        "speaker_counts = defaultdict(int)\n",
        "\n",
        "for speaker_id in dataset[\"speaker_id\"]:\n",
        "    speaker_counts[speaker_id] += 1"
      ],
      "metadata": {
        "id": "Zq7gVewj0ANn"
      },
      "execution_count": null,
      "outputs": []
    },
    {
      "cell_type": "code",
      "source": [
        "import matplotlib.pyplot as plt\n",
        "\n",
        "plt.figure()\n",
        "plt.hist(speaker_counts.values(), bins=20)\n",
        "plt.ylabel(\"Speakers\")\n",
        "plt.xlabel(\"Examples\")\n",
        "plt.show()"
      ],
      "metadata": {
        "colab": {
          "base_uri": "https://localhost:8080/",
          "height": 449
        },
        "id": "hnMjaYOM0AKM",
        "outputId": "64b0e253-474d-470e-a9e2-ba16c8dfef46"
      },
      "execution_count": null,
      "outputs": [
        {
          "output_type": "display_data",
          "data": {
            "text/plain": [
              "<Figure size 640x480 with 1 Axes>"
            ],
            "image/png": "[encoded data removed]"
          },
          "metadata": {}
        }
      ]
    },
    {
      "cell_type": "code",
      "source": [
        "# The histogram reveals that approximately one-third of the speakers in the dataset have fewer than 100 examples, while around ten speakers have more than 500 examples.\n",
        "# To improve training efficiency and balance the dataset, we can limit the data to speakers with between 100 and 400 examples.\n",
        "def select_speaker(speaker_id):\n",
        "    return 100 <= speaker_counts[speaker_id] <= 400\n",
        "\n",
        "dataset = dataset.filter(select_speaker, input_columns=[\"speaker_id\"])"
      ],
      "metadata": {
        "colab": {
          "base_uri": "https://localhost:8080/",
          "height": 49,
          "referenced_widgets": [
            "2c67b6fb820e41208eefc70f13fd99b6",
            "2e803c2a602a4f369ed1bc81cc3f39a1",
            "b813d23809ce4e6aa1ebccec1d2dc1cc",
            "0bb506ccbe8c413baf6184952ad7f7a7",
            "da0d5d5c17bc44e08ee8f7ccd1deff9f",
            "e0dbd6a5defd473aaf85acedbf165532",
            "bbeeabd2af8949d291c23ecafb58eb16",
            "d08c5ad02d4f4879a39be994992ecea0",
            "93e53c8ca75343d1a46156c6f2fad224",
            "e23cb1832ad64641bb450d696c0d692a",
            "1b56c929de624afe91a4ba441514b229"
          ]
        },
        "id": "gYOra1SA0AHv",
        "outputId": "b35a9e68-9489-4b77-9974-48750a8ea5fd"
      },
      "execution_count": null,
      "outputs": [
        {
          "output_type": "display_data",
          "data": {
            "text/plain": [
              "Filter:   0%|          | 0/20968 [00:00<?, ? examples/s]"
            ],
            "application/vnd.jupyter.widget-view+json": {
              "version_major": 2,
              "version_minor": 0,
              "model_id": "2c67b6fb820e41208eefc70f13fd99b6"
            }
          },
          "metadata": {}
        }
      ]
    },
    {
      "cell_type": "code",
      "source": [
        "len(set(dataset[\"speaker_id\"]))"
      ],
      "metadata": {
        "colab": {
          "base_uri": "https://localhost:8080/"
        },
        "id": "MK80aXkE0AFj",
        "outputId": "e076697e-f495-4280-de3a-701a6043efad"
      },
      "execution_count": null,
      "outputs": [
        {
          "output_type": "execute_result",
          "data": {
            "text/plain": [
              "42"
            ]
          },
          "metadata": {},
          "execution_count": 20
        }
      ]
    },
    {
      "cell_type": "code",
      "source": [
        "len(dataset)"
      ],
      "metadata": {
        "colab": {
          "base_uri": "https://localhost:8080/"
        },
        "id": "VKstqjuN0ADV",
        "outputId": "48779442-7133-4251-ec3a-d4a8245ccd6b"
      },
      "execution_count": null,
      "outputs": [
        {
          "output_type": "execute_result",
          "data": {
            "text/plain": [
              "9973"
            ]
          },
          "metadata": {},
          "execution_count": 21
        }
      ]
    },
    {
      "cell_type": "markdown",
      "source": [
        "#### Speaker Embeddings"
      ],
      "metadata": {
        "id": "cF-hK_zi0vnM"
      }
    },
    {
      "cell_type": "code",
      "source": [
        "# The speaker embedding is an additional input into the model that captures a particular speaker’s voice characteristics.\n",
        "# To generate these speaker embeddings, use the pre-trained spkrec-xvect-voxceleb model from SpeechBrain.\n",
        "# The speechbrain/spkrec-xvect-voxceleb model was trained on English speech from the VoxCeleb dataset, but it will still generate reasonable speaker embeddings for Dutch dataset."
      ],
      "metadata": {
        "id": "g2_7v2UL0jxE"
      },
      "execution_count": null,
      "outputs": []
    },
    {
      "cell_type": "code",
      "source": [
        "import os\n",
        "import torch\n",
        "from speechbrain.pretrained import EncoderClassifier\n",
        "\n",
        "spk_model_name = \"speechbrain/spkrec-xvect-voxceleb\"\n",
        "\n",
        "device = \"cuda\" if torch.cuda.is_available() else \"cpu\"\n",
        "speaker_model = EncoderClassifier.from_hparams(\n",
        "    source=spk_model_name,\n",
        "    run_opts={\"device\": device},\n",
        "    savedir=os.path.join(\"/tmp\", spk_model_name),\n",
        ")"
      ],
      "metadata": {
        "colab": {
          "base_uri": "https://localhost:8080/",
          "height": 336,
          "referenced_widgets": [
            "0bfad5a0f8b84147b3f041e2483d7730",
            "4dfa6247873a45c0912a35cfcb9220d6",
            "9b48ada799ce4975b410991104c14bc3",
            "f37b85a66de34d39bfb93357655d4629",
            "07883f175e1e4dcba2c0b62cb4540e64",
            "889a2af4535d48bea0679b580ea39175",
            "30de095306c64ad481bd8f7dbbf81d26",
            "e5946bc916f24581b1383bb0dd293526",
            "e7c5420d1d234f35a63068cd3bde4b95",
            "af10c7a36d874d999f45da3f01ad795f",
            "6d9054b0d90e4c0b9387aaf25df6e91d",
            "f7fc3dfb0dc14c699b67b9d6124b7afd",
            "858eef190321447a9d599e477f300f40",
            "e34aa61941c148c592320294e7259a27",
            "9f9894ab6afe4feaa3e96895bad7b494",
            "0e5275a2e0bf4ad2a86915f286bb7c82",
            "95f4126f65ad4394af45ee2d10d859ec",
            "d486c355e16e489e913b616596baaae6",
            "70f9d37d2c794326bcf5a36cd7ceb68f",
            "8b55a25d39bb432e87e482bc4c076205",
            "9f389118375e448c81d886e31da956b8",
            "b9ca1b0dc9604302863dcc540a5bcb00",
            "b2a6cf23468f4ab5a0cb795f1d531a85",
            "b617f7e67c384cff911ac1458c0890ca",
            "4ec026bfc5f64b1f80aaa35fd8b5f92a",
            "41adc5ae24bf4173a4c06ff04e93b561",
            "04f80b382deb4a07b8766b1081f1dead",
            "0cf6e470b60543508fd28a8efbfe251a",
            "57519dcfa06f4f04b8f52999f1a833be",
            "1ef965440061456380d1e73ef217db76",
            "e87d40d942464156ae714b619796134e",
            "4cfb935912684a0d878949f9a50c3e16",
            "8da12e631e6b4d57a9632fc1c3652dd6",
            "06187a8c5f084f169c316853380c8a2c",
            "beac0d9041a74714a004e08608ddb2bd",
            "29139558528846ff9b53316508120bca",
            "0b6659cce79f4987ad56aef69fdeaf3a",
            "c7b68200420743b5bc91e54f48c445c4",
            "2f9937bae1354a52b2a620b8f941ae6b",
            "821fc69bd26b4785a965571b5872a1e3",
            "1a065be05532432ca0ab5c1434065e56",
            "33a93c922790493db464ac6dbe9af691",
            "d75a985c409b4c46b6d1f8d9609d038f",
            "750397ead0c347aea2225c864069dd26",
            "766d12bbae46479e98b353383a638094",
            "2d562cd66cf84a5a8fd4f5cec61c1a03",
            "f237091958e94ae6bb5fa158f1d198a5",
            "f40f0a2a89664e2e932d7c13259ad5e4",
            "26b2f310fc714f5487b43a8093cd4021",
            "0afaee1240e64259acd95be526e460a2",
            "7d86d676b0884df4ac9ac3f1e285d9fc",
            "dfc48f03d101413a92d6cc2002a8d38f",
            "fd327e2e17844906ad8b3b93f0e30ffc",
            "dae1020a38504fefb1a4c585ea56e0f3",
            "b5b12b9cfb9447d8a4185d84dbff415a"
          ]
        },
        "id": "bAxtVaHf0jt1",
        "outputId": "3fd41fc3-02b6-4b7c-81c7-f5fe60cedbcf"
      },
      "execution_count": null,
      "outputs": [
        {
          "output_type": "stream",
          "name": "stderr",
          "text": [
            "<ipython-input-23-055473d763ec>:3: UserWarning: Module 'speechbrain.pretrained' was deprecated, redirecting to 'speechbrain.inference'. Please update your script. This is a change from SpeechBrain 1.0. See: https://github.com/speechbrain/speechbrain/releases/tag/v1.0.0\n",
            "  from speechbrain.pretrained import EncoderClassifier\n"
          ]
        },
        {
          "output_type": "display_data",
          "data": {
            "text/plain": [
              "hyperparams.yaml:   0%|          | 0.00/2.04k [00:00<?, ?B/s]"
            ],
            "application/vnd.jupyter.widget-view+json": {
              "version_major": 2,
              "version_minor": 0,
              "model_id": "0bfad5a0f8b84147b3f041e2483d7730"
            }
          },
          "metadata": {}
        },
        {
          "output_type": "stream",
          "name": "stderr",
          "text": [
            "/usr/local/lib/python3.11/dist-packages/speechbrain/utils/autocast.py:68: FutureWarning: `torch.cuda.amp.custom_fwd(args...)` is deprecated. Please use `torch.amp.custom_fwd(args..., device_type='cuda')` instead.\n",
            "  wrapped_fwd = torch.cuda.amp.custom_fwd(fwd, cast_inputs=cast_inputs)\n"
          ]
        },
        {
          "output_type": "display_data",
          "data": {
            "text/plain": [
              "embedding_model.ckpt:   0%|          | 0.00/16.9M [00:00<?, ?B/s]"
            ],
            "application/vnd.jupyter.widget-view+json": {
              "version_major": 2,
              "version_minor": 0,
              "model_id": "f7fc3dfb0dc14c699b67b9d6124b7afd"
            }
          },
          "metadata": {}
        },
        {
          "output_type": "display_data",
          "data": {
            "text/plain": [
              "mean_var_norm_emb.ckpt:   0%|          | 0.00/3.20k [00:00<?, ?B/s]"
            ],
            "application/vnd.jupyter.widget-view+json": {
              "version_major": 2,
              "version_minor": 0,
              "model_id": "b2a6cf23468f4ab5a0cb795f1d531a85"
            }
          },
          "metadata": {}
        },
        {
          "output_type": "display_data",
          "data": {
            "text/plain": [
              "classifier.ckpt:   0%|          | 0.00/15.9M [00:00<?, ?B/s]"
            ],
            "application/vnd.jupyter.widget-view+json": {
              "version_major": 2,
              "version_minor": 0,
              "model_id": "06187a8c5f084f169c316853380c8a2c"
            }
          },
          "metadata": {}
        },
        {
          "output_type": "display_data",
          "data": {
            "text/plain": [
              "label_encoder.txt:   0%|          | 0.00/129k [00:00<?, ?B/s]"
            ],
            "application/vnd.jupyter.widget-view+json": {
              "version_major": 2,
              "version_minor": 0,
              "model_id": "766d12bbae46479e98b353383a638094"
            }
          },
          "metadata": {}
        },
        {
          "output_type": "stream",
          "name": "stderr",
          "text": [
            "/usr/local/lib/python3.11/dist-packages/speechbrain/utils/checkpoints.py:200: FutureWarning: You are using `torch.load` with `weights_only=False` (the current default value), which uses the default pickle module implicitly. It is possible to construct malicious pickle data which will execute arbitrary code during unpickling (See https://github.com/pytorch/pytorch/blob/main/SECURITY.md#untrusted-models for more details). In a future release, the default value for `weights_only` will be flipped to `True`. This limits the functions that could be executed during unpickling. Arbitrary objects will no longer be allowed to be loaded via this mode unless they are explicitly allowlisted by the user via `torch.serialization.add_safe_globals`. We recommend you start setting `weights_only=True` for any use case where you don't have full control of the loaded file. Please open an issue on GitHub for any issues related to this experimental feature.\n",
            "  state_dict = torch.load(path, map_location=device)\n",
            "/usr/local/lib/python3.11/dist-packages/speechbrain/processing/features.py:1311: FutureWarning: You are using `torch.load` with `weights_only=False` (the current default value), which uses the default pickle module implicitly. It is possible to construct malicious pickle data which will execute arbitrary code during unpickling (See https://github.com/pytorch/pytorch/blob/main/SECURITY.md#untrusted-models for more details). In a future release, the default value for `weights_only` will be flipped to `True`. This limits the functions that could be executed during unpickling. Arbitrary objects will no longer be allowed to be loaded via this mode unless they are explicitly allowlisted by the user via `torch.serialization.add_safe_globals`. We recommend you start setting `weights_only=True` for any use case where you don't have full control of the loaded file. Please open an issue on GitHub for any issues related to this experimental feature.\n",
            "  stats = torch.load(path, map_location=device)\n"
          ]
        }
      ]
    },
    {
      "cell_type": "code",
      "source": [
        "def create_speaker_embedding(waveform):\n",
        "    with torch.no_grad():\n",
        "        speaker_embeddings = speaker_model.encode_batch(torch.tensor(waveform))\n",
        "        speaker_embeddings = torch.nn.functional.normalize(speaker_embeddings, dim=2)\n",
        "        speaker_embeddings = speaker_embeddings.squeeze().cpu().numpy()\n",
        "    return speaker_embeddings"
      ],
      "metadata": {
        "id": "1uvv-OxN0jrN"
      },
      "execution_count": null,
      "outputs": []
    },
    {
      "cell_type": "markdown",
      "source": [
        "#### Process The Dataset"
      ],
      "metadata": {
        "id": "y6cmMUVh1wiW"
      }
    },
    {
      "cell_type": "code",
      "source": [
        "# The format the model expects. Create a prepare_dataset function that takes in a single example and uses the SpeechT5Processor object to:\n",
        "# 1. tokenize the input text\n",
        "# 2. load the target audio into a log-mel spectrogram\n",
        "# 3. add the speaker embeddings as an additional input."
      ],
      "metadata": {
        "id": "HRKDndAT0jo7"
      },
      "execution_count": null,
      "outputs": []
    },
    {
      "cell_type": "code",
      "source": [
        "def prepare_dataset(example):\n",
        "    audio = example[\"audio\"]\n",
        "\n",
        "    example = processor(\n",
        "        text=example[\"normalized_text\"],\n",
        "        audio_target=audio[\"array\"],\n",
        "        sampling_rate=audio[\"sampling_rate\"],\n",
        "        return_attention_mask=False,\n",
        "    )\n",
        "\n",
        "    # strip off the batch dimension\n",
        "    example[\"labels\"] = example[\"labels\"][0]\n",
        "\n",
        "    # use SpeechBrain to obtain x-vector\n",
        "    example[\"speaker_embeddings\"] = create_speaker_embedding(audio[\"array\"])\n",
        "\n",
        "    return example"
      ],
      "metadata": {
        "id": "vn6TkA2f0AA7"
      },
      "execution_count": null,
      "outputs": []
    },
    {
      "cell_type": "code",
      "source": [
        "processed_example = prepare_dataset(dataset[0])\n",
        "list(processed_example.keys())"
      ],
      "metadata": {
        "colab": {
          "base_uri": "https://localhost:8080/"
        },
        "id": "nPftc_sfwh4_",
        "outputId": "cb37010c-9b28-4375-ebae-29ce4648fe3b"
      },
      "execution_count": null,
      "outputs": [
        {
          "output_type": "execute_result",
          "data": {
            "text/plain": [
              "['input_ids', 'labels', 'speaker_embeddings']"
            ]
          },
          "metadata": {},
          "execution_count": 26
        }
      ]
    },
    {
      "cell_type": "code",
      "source": [
        "processed_example[\"speaker_embeddings\"].shape    # must be 512"
      ],
      "metadata": {
        "colab": {
          "base_uri": "https://localhost:8080/"
        },
        "id": "kCJgjCl72nFQ",
        "outputId": "310f5f6c-d574-4d0e-cf40-b305d7b64bc2"
      },
      "execution_count": null,
      "outputs": [
        {
          "output_type": "execute_result",
          "data": {
            "text/plain": [
              "(512,)"
            ]
          },
          "metadata": {},
          "execution_count": 27
        }
      ]
    },
    {
      "cell_type": "code",
      "source": [
        "import matplotlib.pyplot as plt\n",
        "\n",
        "plt.figure()\n",
        "plt.imshow(processed_example[\"labels\"].T)    # The labels should be a log-mel spectrogram with 80 mel bins.\n",
        "plt.show()"
      ],
      "metadata": {
        "colab": {
          "base_uri": "https://localhost:8080/",
          "height": 180
        },
        "id": "h03y_hSE2nBu",
        "outputId": "d2896873-4be0-4327-9152-41dc18a999f8"
      },
      "execution_count": null,
      "outputs": [
        {
          "output_type": "display_data",
          "data": {
            "text/plain": [
              "<Figure size 640x480 with 1 Axes>"
            ],
            "image/png": "[encoded data removed]"
          },
          "metadata": {}
        }
      ]
    },
    {
      "cell_type": "code",
      "source": [
        "dataset"
      ],
      "metadata": {
        "colab": {
          "base_uri": "https://localhost:8080/"
        },
        "id": "DoJp4yGl3iqs",
        "outputId": "a6f521a6-77a9-484f-c770-783c4887e9da"
      },
      "execution_count": null,
      "outputs": [
        {
          "output_type": "execute_result",
          "data": {
            "text/plain": [
              "Dataset({\n",
              "    features: ['audio_id', 'language', 'audio', 'raw_text', 'normalized_text', 'gender', 'speaker_id', 'is_gold_transcript', 'accent'],\n",
              "    num_rows: 9973\n",
              "})"
            ]
          },
          "metadata": {},
          "execution_count": 29
        }
      ]
    },
    {
      "cell_type": "code",
      "source": [
        "# If it's too many to process and train over 10,000 samples, use this line to reduce it to 5000\n",
        "dataset = dataset.shuffle(seed=42).select(range(5000))"
      ],
      "metadata": {
        "id": "9fqZFF0I3xi4"
      },
      "execution_count": null,
      "outputs": []
    },
    {
      "cell_type": "code",
      "source": [
        "# Process the full dataset\n",
        "dataset = dataset.map(prepare_dataset, remove_columns=dataset.column_names)"
      ],
      "metadata": {
        "colab": {
          "base_uri": "https://localhost:8080/",
          "height": 86,
          "referenced_widgets": [
            "1c363ac206044f83b878f93b053b01cc",
            "3d854a46fb1d46c0b72c6a0add71b8b3",
            "6a8b64ec53004903863edeaa6b9b4e6b",
            "c92996c1344f4de4904242be9eb278e7",
            "e6fe57e80d1a40ccb3635a3946823776",
            "ed01862bcde546a8acce5362d1bd1462",
            "8e8bd29fe7094b9f9f2182ac989dba15",
            "a36adea393b84144aa903938807e736a",
            "a4b05554b0864632bd484cdb2fdb6621",
            "5e46cfa722f34144b9f1bc3dc88eb736",
            "6abb1d07bd324baabe334450d03cd343"
          ]
        },
        "id": "rfiieiC22m_l",
        "outputId": "abe69de6-ab0e-4871-d34f-df8320f05f13"
      },
      "execution_count": null,
      "outputs": [
        {
          "output_type": "display_data",
          "data": {
            "text/plain": [
              "Map:   0%|          | 0/5000 [00:00<?, ? examples/s]"
            ],
            "application/vnd.jupyter.widget-view+json": {
              "version_major": 2,
              "version_minor": 0,
              "model_id": "1c363ac206044f83b878f93b053b01cc"
            }
          },
          "metadata": {}
        },
        {
          "output_type": "stream",
          "name": "stderr",
          "text": [
            "Token indices sequence length is longer than the specified maximum sequence length for this model (750 > 600). Running this sequence through the model will result in indexing errors\n"
          ]
        }
      ]
    },
    {
      "cell_type": "code",
      "source": [
        "# Remove examples with input length more than 200 token\n",
        "def is_not_too_long(input_ids):\n",
        "    input_length = len(input_ids)\n",
        "    return input_length < 200\n",
        "\n",
        "dataset = dataset.filter(is_not_too_long, input_columns=[\"input_ids\"])\n",
        "len(dataset)"
      ],
      "metadata": {
        "colab": {
          "base_uri": "https://localhost:8080/",
          "height": 66,
          "referenced_widgets": [
            "9fda8bd500e24a4791d3a77b2d735a7b",
            "8838bcef857e4a8cb0e5e8983cd02eb4",
            "9434fb31a68b4dcdabfb58a388137a22",
            "65dd9f781fd94c99b4a0b816500595c5",
            "7ecf9548862b4ec9a15a4eec75ad5b1d",
            "34afff8fb42841e3935d13b76e490e10",
            "867f03247c294ac092e02a0c58009dcd",
            "71057c101d2848cd858112651e2ac404",
            "4f4c47c130ae49ada708650d5a77c5c6",
            "2d2ee243706348d9a3241eab4e11ea09",
            "40f142da131749ff89bfea5fa33f1547"
          ]
        },
        "id": "0J6dc5us2m9N",
        "outputId": "f48006ea-5893-40c3-99a1-0ac1ff42b7d6"
      },
      "execution_count": null,
      "outputs": [
        {
          "output_type": "display_data",
          "data": {
            "text/plain": [
              "Filter:   0%|          | 0/5000 [00:00<?, ? examples/s]"
            ],
            "application/vnd.jupyter.widget-view+json": {
              "version_major": 2,
              "version_minor": 0,
              "model_id": "9fda8bd500e24a4791d3a77b2d735a7b"
            }
          },
          "metadata": {}
        },
        {
          "output_type": "execute_result",
          "data": {
            "text/plain": [
              "4160"
            ]
          },
          "metadata": {},
          "execution_count": 33
        }
      ]
    },
    {
      "cell_type": "code",
      "source": [
        "dataset = dataset.train_test_split(test_size=0.1)"
      ],
      "metadata": {
        "id": "mf72Qzlf2me8"
      },
      "execution_count": null,
      "outputs": []
    },
    {
      "cell_type": "markdown",
      "source": [
        "#### Data Collator"
      ],
      "metadata": {
        "id": "Bag6cuv232Sp"
      }
    },
    {
      "cell_type": "code",
      "source": [
        "from dataclasses import dataclass\n",
        "from typing import Any, Dict, List, Union\n",
        "\n",
        "\n",
        "@dataclass\n",
        "class TTSDataCollatorWithPadding:\n",
        "    processor: Any\n",
        "\n",
        "    def __call__(self, features: List[Dict[str, Union[List[int], torch.Tensor]]]) -> Dict[str, torch.Tensor]:\n",
        "        input_ids = [{\"input_ids\": feature[\"input_ids\"]} for feature in features]\n",
        "        label_features = [{\"input_values\": feature[\"labels\"]} for feature in features]\n",
        "        speaker_features = [feature[\"speaker_embeddings\"] for feature in features]\n",
        "\n",
        "        # collate the inputs and targets into a batch\n",
        "        batch = processor.pad(\n",
        "            input_ids=input_ids, labels=label_features, return_tensors=\"pt\"\n",
        "        )\n",
        "\n",
        "        # replace padding with -100 to ignore loss correctly\n",
        "        batch[\"labels\"] = batch[\"labels\"].masked_fill(\n",
        "            batch.decoder_attention_mask.unsqueeze(-1).ne(1), -100\n",
        "        )\n",
        "\n",
        "        # not used during fine-tuning\n",
        "        del batch[\"decoder_attention_mask\"]\n",
        "\n",
        "        # round down target lengths to multiple of reduction factor\n",
        "        if model.config.reduction_factor > 1:\n",
        "            target_lengths = torch.tensor(\n",
        "                [len(feature[\"input_values\"]) for feature in label_features]\n",
        "            )\n",
        "            target_lengths = target_lengths.new(\n",
        "                [\n",
        "                    length - length % model.config.reduction_factor\n",
        "                    for length in target_lengths\n",
        "                ]\n",
        "            )\n",
        "            max_length = max(target_lengths)\n",
        "            batch[\"labels\"] = batch[\"labels\"][:, :max_length]\n",
        "\n",
        "        # also add in the speaker embeddings\n",
        "        batch[\"speaker_embeddings\"] = torch.tensor(speaker_features)\n",
        "\n",
        "        return batch"
      ],
      "metadata": {
        "id": "kbh7_xh53ZAu"
      },
      "execution_count": null,
      "outputs": []
    },
    {
      "cell_type": "code",
      "source": [
        "data_collator = TTSDataCollatorWithPadding(processor=processor)"
      ],
      "metadata": {
        "id": "-MM6P74F4kbS"
      },
      "execution_count": null,
      "outputs": []
    },
    {
      "cell_type": "markdown",
      "source": [
        "## Model Training"
      ],
      "metadata": {
        "id": "u_HiAq0Q4KSW"
      }
    },
    {
      "cell_type": "code",
      "source": [
        "from transformers import SpeechT5ForTextToSpeech\n",
        "\n",
        "model = SpeechT5ForTextToSpeech.from_pretrained(checkpoint)"
      ],
      "metadata": {
        "colab": {
          "base_uri": "https://localhost:8080/",
          "height": 81,
          "referenced_widgets": [
            "df71c1ad611b441b96e460a75f5e3404",
            "9953c3441b254319b2db53724b8b6806",
            "58edd769a23e4209a12e28b9b3675205",
            "20d661959ff24e1ab69bd64eda52db6d",
            "7c2048217c6c4d08875ebed474e2da0a",
            "d2c993387cee4cfb8c3d5e16ced4c7c0",
            "8e54b6982f324157838cf29e89df0537",
            "e6ced6f59f6240a382aad7780a6e987e",
            "fb3b50dba4dc4375b8f140b2c94aee10",
            "7f84d36624ce47a0b585e2f938638d6a",
            "05f6d8f84c364d959f678fc168b48993",
            "5c05ad263db04622922aa8bb35025f90",
            "f0517a0b498c4abc8756946d9c79a016",
            "2a904b2cdd5a45e3be1269d2f953a90b",
            "a2f13019071843389561e7ec03c95b89",
            "6309f95fe7bf4334a1e7c8f9690d60be",
            "afa744b68c4549b5a97aeecc379ce953",
            "231e1d1be9fa43b9a4b076c56bc9e830",
            "f6fd3888da534753a515dd4d3bfa0b57",
            "3dd83770cb864cedb7996740d2117c59",
            "4854034fdb414c17bdece87a06b6b51c",
            "3c0c7e96bbf641c4be51bb028ad88fa2"
          ]
        },
        "id": "8kWYP6-G3Y9T",
        "outputId": "4e25d7ef-5d7e-472e-8a7a-ff367fc469c7"
      },
      "execution_count": null,
      "outputs": [
        {
          "output_type": "display_data",
          "data": {
            "text/plain": [
              "config.json:   0%|          | 0.00/2.06k [00:00<?, ?B/s]"
            ],
            "application/vnd.jupyter.widget-view+json": {
              "version_major": 2,
              "version_minor": 0,
              "model_id": "df71c1ad611b441b96e460a75f5e3404"
            }
          },
          "metadata": {}
        },
        {
          "output_type": "display_data",
          "data": {
            "text/plain": [
              "pytorch_model.bin:   0%|          | 0.00/585M [00:00<?, ?B/s]"
            ],
            "application/vnd.jupyter.widget-view+json": {
              "version_major": 2,
              "version_minor": 0,
              "model_id": "5c05ad263db04622922aa8bb35025f90"
            }
          },
          "metadata": {}
        }
      ]
    },
    {
      "cell_type": "code",
      "source": [
        "from functools import partial\n",
        "\n",
        "# disable cache during training since it's incompatible with gradient checkpointing\n",
        "model.config.use_cache = False\n",
        "\n",
        "# set language and task for generation and re-enable cache\n",
        "model.generate = partial(model.generate, use_cache=True)"
      ],
      "metadata": {
        "id": "9-wibzaS3Y6o"
      },
      "execution_count": null,
      "outputs": []
    },
    {
      "cell_type": "code",
      "source": [
        "from transformers import Seq2SeqTrainingArguments\n",
        "\n",
        "training_args = Seq2SeqTrainingArguments(\n",
        "    output_dir=\"speecht5_finetuned_voxpopuli_dutch\",\n",
        "    per_device_train_batch_size=2,\n",
        "    gradient_accumulation_steps=8,\n",
        "    learning_rate=1e-5,\n",
        "    warmup_steps=500,\n",
        "    max_steps=2000,\n",
        "    gradient_checkpointing=True,\n",
        "    fp16=True,\n",
        "    evaluation_strategy=\"steps\",\n",
        "    per_device_eval_batch_size=1,\n",
        "    save_steps=1000,\n",
        "    eval_steps=1000,\n",
        "    logging_steps=25,\n",
        "    report_to=[\"tensorboard\"],\n",
        "    load_best_model_at_end=True,\n",
        "    greater_is_better=False,\n",
        "    label_names=[\"labels\"],\n",
        "    push_to_hub=True,\n",
        ")"
      ],
      "metadata": {
        "colab": {
          "base_uri": "https://localhost:8080/"
        },
        "id": "7bwBAEVi3Y4F",
        "outputId": "99934158-90bc-418f-852d-e68937e75a60"
      },
      "execution_count": null,
      "outputs": [
        {
          "output_type": "stream",
          "name": "stderr",
          "text": [
            "/usr/local/lib/python3.11/dist-packages/transformers/training_args.py:1594: FutureWarning: `evaluation_strategy` is deprecated and will be removed in version 4.46 of 🤗 Transformers. Use `eval_strategy` instead\n",
            "  warnings.warn(\n"
          ]
        }
      ]
    },
    {
      "cell_type": "code",
      "source": [
        "from transformers import Seq2SeqTrainer\n",
        "\n",
        "trainer = Seq2SeqTrainer(\n",
        "    args=training_args,\n",
        "    model=model,\n",
        "    train_dataset=dataset[\"train\"],\n",
        "    eval_dataset=dataset[\"test\"],\n",
        "    data_collator=data_collator,\n",
        "    tokenizer=processor,\n",
        ")"
      ],
      "metadata": {
        "colab": {
          "base_uri": "https://localhost:8080/"
        },
        "id": "EK0f2igl3Y1x",
        "outputId": "f19d0688-c5b5-4758-d8f9-18ee461579c3"
      },
      "execution_count": null,
      "outputs": [
        {
          "output_type": "stream",
          "name": "stderr",
          "text": [
            "<ipython-input-41-3e9fd9c3f140>:3: FutureWarning: `tokenizer` is deprecated and will be removed in version 5.0.0 for `Seq2SeqTrainer.__init__`. Use `processing_class` instead.\n",
            "  trainer = Seq2SeqTrainer(\n"
          ]
        }
      ]
    },
    {
      "cell_type": "code",
      "source": [
        "trainer.train()"
      ],
      "metadata": {
        "id": "y4TDbG1m4exs",
        "colab": {
          "base_uri": "https://localhost:8080/",
          "height": 245
        },
        "outputId": "ea4b1dc5-8754-4d79-b730-b6df2eb40592"
      },
      "execution_count": null,
      "outputs": [
        {
          "output_type": "display_data",
          "data": {
            "text/plain": [
              "<IPython.core.display.HTML object>"
            ],
            "text/html": [
              "\n",
              "    <div>\n",
              "      \n",
              "      <progress value='2000' max='2000' style='width:300px; height:20px; vertical-align: middle;'></progress>\n",
              "      [2000/2000 49:52, Epoch 8/9]\n",
              "    </div>\n",
              "    <table border=\"1\" class=\"dataframe\">\n",
              "  <thead>\n",
              " <tr style=\"text-align: left;\">\n",
              "      <th>Step</th>\n",
              "      <th>Training Loss</th>\n",
              "      <th>Validation Loss</th>\n",
              "    </tr>\n",
              "  </thead>\n",
              "  <tbody>\n",
              "    <tr>\n",
              "      <td>1000</td>\n",
              "      <td>0.528000</td>\n",
              "      <td>0.491759</td>\n",
              "    </tr>\n",
              "    <tr>\n",
              "      <td>2000</td>\n",
              "      <td>0.509600</td>\n",
              "      <td>0.479226</td>\n",
              "    </tr>\n",
              "  </tbody>\n",
              "</table><p>"
            ]
          },
          "metadata": {}
        },
        {
          "output_type": "stream",
          "name": "stderr",
          "text": [
            "/usr/local/lib/python3.11/dist-packages/transformers/modeling_utils.py:2810: UserWarning: Moving the following attributes in the config to the generation config: {'max_length': 1876}. You are seeing this warning because you've set generation parameters in the model config, as opposed to in the generation config.\n",
            "  warnings.warn(\n"
          ]
        },
        {
          "output_type": "execute_result",
          "data": {
            "text/plain": [
              "TrainOutput(global_step=2000, training_loss=0.5627765374183655, metrics={'train_runtime': 2995.377, 'train_samples_per_second': 10.683, 'train_steps_per_second': 0.668, 'total_flos': 3652536552473952.0, 'train_loss': 0.5627765374183655, 'epoch': 8.547008547008547})"
            ]
          },
          "metadata": {},
          "execution_count": 42
        }
      ]
    },
    {
      "cell_type": "code",
      "source": [
        "trainer.push_to_hub()"
      ],
      "metadata": {
        "id": "zqJW65MO4euI",
        "colab": {
          "base_uri": "https://localhost:8080/",
          "height": 106
        },
        "outputId": "134f5de6-0968-488a-9cd3-e1b328391bd4"
      },
      "execution_count": null,
      "outputs": [
        {
          "output_type": "execute_result",
          "data": {
            "text/plain": [
              "CommitInfo(commit_url='https://huggingface.co/AhmedNabil1/speecht5_finetuned_voxpopuli_dutch/commit/9e487383f5e8f8b09ae2ef33fabe2e73ef5b840c', commit_message='End of training', commit_description='', oid='9e487383f5e8f8b09ae2ef33fabe2e73ef5b840c', pr_url=None, repo_url=RepoUrl('https://huggingface.co/AhmedNabil1/speecht5_finetuned_voxpopuli_dutch', endpoint='https://huggingface.co', repo_type='model', repo_id='AhmedNabil1/speecht5_finetuned_voxpopuli_dutch'), pr_revision=None, pr_num=None)"
            ],
            "application/vnd.google.colaboratory.intrinsic+json": {
              "type": "string"
            }
          },
          "metadata": {},
          "execution_count": 43
        }
      ]
    },
    {
      "cell_type": "code",
      "source": [
        "# While models optimize for mean-square error (MSE) or mean absolute error (MAE) during training, these metrics don’t fully capture speech quality.\n",
        "# The most common evaluation method is Mean Opinion Scores (MOS), where human listeners rate synthesized speech on a 1 to 5 scale based on qualities like pronunciation, intonation, and naturalness."
      ],
      "metadata": {
        "id": "q8NNkL2B7WN_"
      },
      "execution_count": null,
      "outputs": []
    },
    {
      "cell_type": "markdown",
      "source": [
        "## Inference"
      ],
      "metadata": {
        "id": "KhSkASpW4xjC"
      }
    },
    {
      "cell_type": "code",
      "source": [
        "model = SpeechT5ForTextToSpeech.from_pretrained(\n",
        "    \"AhmedNabil1/speecht5_finetuned_voxpopuli_dutch\"\n",
        ")"
      ],
      "metadata": {
        "id": "7_Km4O9C4erl",
        "colab": {
          "base_uri": "https://localhost:8080/",
          "height": 113,
          "referenced_widgets": [
            "c2e19457feeb4086ad3102a8ee60e512",
            "3832b7001eca4689bf5f6e8a25438295",
            "9f92b56a40fb46e8b9f914c145e3663e",
            "33ab7c3364b048929648e02589989d10",
            "f81b314c69354fe18025ab6532a87b78",
            "687bcf04050c49ad8dae7a7f7bfe9775",
            "e786d34cce52427b86adbc9fba56bcb0",
            "d560285beffb43edb178b2a4b695ba9b",
            "1daf0d0709f5447f9245c0a115bd540d",
            "b73946839f074d0da050eed9ff3a587e",
            "e525670d7af74d0e8bb12f6181e1c141",
            "4440153462ba4b3a89dc13128eacfee5",
            "e6882b3470ff4662bb8d5e64a30ef28e",
            "0b4aa482e51846cdad2cdb2bfaf1450e",
            "651d854d4b9a4284a5fbce8672be8061",
            "126d4ab9792f4f84868767d0647968e4",
            "426544bbff6e4a1a8aea7fdb1e76bc1b",
            "3c84c589724444d4b13aa2aac1c0d8e2",
            "8e4a317087ed40598245c23f0c35c8ae",
            "883fa0606b4d49fab451fec67a394d67",
            "106dc749289c4eeeb94710c8acf325e7",
            "be69a8750f3140d580353e1a7cbc8eda",
            "6695acaaafe84859847085a7610649f8",
            "8446c4ab55684f4cb1e2bb816b288401",
            "1a59421acbfc43248b3c83dbdbbdb24f",
            "328cb2ddfe0a40edbef4b42c04a1cd90",
            "0dcb26f18cf54f4194c95a55f72b8d50",
            "d0cdbbecc4e249d5924889cb60d58d44",
            "1bc6c1576ad74f9e94f96b924af1ca16",
            "e44f18828dc04bbfa759962cc2774ea0",
            "c8750825e7994759ac14a25803497946",
            "10be863bb6c7465cb86e296373198d28",
            "5d637121922948e5a0dda12d5738bb78"
          ]
        },
        "outputId": "16cf3f4b-2c98-4897-893d-0e7584b0804d"
      },
      "execution_count": null,
      "outputs": [
        {
          "output_type": "display_data",
          "data": {
            "text/plain": [
              "config.json:   0%|          | 0.00/2.10k [00:00<?, ?B/s]"
            ],
            "application/vnd.jupyter.widget-view+json": {
              "version_major": 2,
              "version_minor": 0,
              "model_id": "c2e19457feeb4086ad3102a8ee60e512"
            }
          },
          "metadata": {}
        },
        {
          "output_type": "display_data",
          "data": {
            "text/plain": [
              "model.safetensors:   0%|          | 0.00/578M [00:00<?, ?B/s]"
            ],
            "application/vnd.jupyter.widget-view+json": {
              "version_major": 2,
              "version_minor": 0,
              "model_id": "4440153462ba4b3a89dc13128eacfee5"
            }
          },
          "metadata": {}
        },
        {
          "output_type": "display_data",
          "data": {
            "text/plain": [
              "generation_config.json:   0%|          | 0.00/185 [00:00<?, ?B/s]"
            ],
            "application/vnd.jupyter.widget-view+json": {
              "version_major": 2,
              "version_minor": 0,
              "model_id": "6695acaaafe84859847085a7610649f8"
            }
          },
          "metadata": {}
        }
      ]
    },
    {
      "cell_type": "code",
      "source": [
        "example = dataset[\"test\"][304]\n",
        "speaker_embeddings = torch.tensor(example[\"speaker_embeddings\"]).unsqueeze(0)"
      ],
      "metadata": {
        "id": "wMzDTuTa4epI"
      },
      "execution_count": null,
      "outputs": []
    },
    {
      "cell_type": "code",
      "source": [
        "text = \"hallo allemaal, ik praat nederlands. groetjes aan iedereen!\""
      ],
      "metadata": {
        "id": "5MWFZYp846by"
      },
      "execution_count": null,
      "outputs": []
    },
    {
      "cell_type": "code",
      "source": [
        "inputs = processor(text=text, return_tensors=\"pt\")"
      ],
      "metadata": {
        "id": "6lbJgA5t46YS"
      },
      "execution_count": null,
      "outputs": []
    },
    {
      "cell_type": "code",
      "source": [
        "from transformers import SpeechT5HifiGan\n",
        "\n",
        "vocoder = SpeechT5HifiGan.from_pretrained(\"microsoft/speecht5_hifigan\")\n",
        "speech = model.generate_speech(inputs[\"input_ids\"], speaker_embeddings, vocoder=vocoder)"
      ],
      "metadata": {
        "id": "Q_mIpzWt46VS",
        "colab": {
          "base_uri": "https://localhost:8080/",
          "height": 113,
          "referenced_widgets": [
            "d8ca54e390e14c0dae1e1b95df4123d4",
            "9694b98546874eb28eeacae186b2cbe0",
            "a352029def3a4b5390b740226fcaf79c",
            "1913b23318c6450ba8aac8dbc318d919",
            "1e889991a1ea4e1fa3a46694bdebee1c",
            "885a563237f8431b80f2fcff940bb645",
            "b49429f60da54ca5a2becb337ea4bef0",
            "c03eb8076e9c4e35bc2d1daf3211249e",
            "729601b4110b45878d4cb080eedc46e0",
            "abdf0847929949899d08e8791b90a2db",
            "c6fdf7de432241a183a1d71aca9ca279",
            "40a3e9d43b744a378c64798bd64b0d70",
            "91b091c427614141959f4045fb20998e",
            "7f99db32df8a4f9e8cde01363c063211",
            "fec48522473c461692599ba823143cfe",
            "f75ee8264d574a118c5c4c4399ff99fb",
            "c1b52ad42134495b9bea4a412b83c3f3",
            "766fb907cc834a02a571bcaa7622888e",
            "c747a3992cad418a9f05b9cdb8c3c25f",
            "6ed0597331424db39a6486cac9807d57",
            "168c2093292742e0ac1d5b529941c97c",
            "857ef32fe65c4e198f2ef9de5150bbcb",
            "167c214e35c242febbad99b3ce023ab6",
            "c4d76907da714c49b379e54feb878788",
            "3a773945b8e4444cb3ff7c8c9043b806",
            "46f9715732904a15921be8ca7b96b9ed",
            "fff49d81b7db4216a96fd14282f1f04d",
            "b7745713ffbd42b9b9087c802287e32f",
            "76bf7564025f4ea58fcbb4911b5f3017",
            "e6b5693016fe46f68093c1b19867441f",
            "057afe3c309f4cb6aa93619e100b7deb",
            "0604e85a24fa499f8c854d1401be49cd",
            "b0f5a01c43ac4e6c909e5702e63139e0"
          ]
        },
        "outputId": "5f0cfddd-5120-4493-c6f8-63f52497dd99"
      },
      "execution_count": null,
      "outputs": [
        {
          "output_type": "display_data",
          "data": {
            "text/plain": [
              "config.json:   0%|          | 0.00/636 [00:00<?, ?B/s]"
            ],
            "application/vnd.jupyter.widget-view+json": {
              "version_major": 2,
              "version_minor": 0,
              "model_id": "d8ca54e390e14c0dae1e1b95df4123d4"
            }
          },
          "metadata": {}
        },
        {
          "output_type": "display_data",
          "data": {
            "text/plain": [
              "pytorch_model.bin:   0%|          | 0.00/50.7M [00:00<?, ?B/s]"
            ],
            "application/vnd.jupyter.widget-view+json": {
              "version_major": 2,
              "version_minor": 0,
              "model_id": "40a3e9d43b744a378c64798bd64b0d70"
            }
          },
          "metadata": {}
        },
        {
          "output_type": "display_data",
          "data": {
            "text/plain": [
              "model.safetensors:   0%|          | 0.00/50.6M [00:00<?, ?B/s]"
            ],
            "application/vnd.jupyter.widget-view+json": {
              "version_major": 2,
              "version_minor": 0,
              "model_id": "167c214e35c242febbad99b3ce023ab6"
            }
          },
          "metadata": {}
        }
      ]
    },
    {
      "cell_type": "code",
      "source": [
        "from IPython.display import Audio\n",
        "\n",
        "Audio(speech.numpy(), rate=16000)"
      ],
      "metadata": {
        "id": "TJr2_CMK46QK",
        "colab": {
          "base_uri": "https://localhost:8080/",
          "height": 76
        },
        "outputId": "fcc41e3f-cfba-4e36-c6ef-2b01530f25b2"
      },
      "execution_count": null,
      "outputs": [
        {
          "output_type": "execute_result",
          "data": {
            "text/plain": [
              "<IPython.lib.display.Audio object>"
            ],
            "text/html": [
              "\n",
              "                <audio  controls=\"controls\" >\n",
              "                    <source src=\"data:audio/wav;base64,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\" type=\"audio/wav\" />\n",
              "                    Your browser does not support the audio element.\n",
              "                </audio>\n",
              "              "
            ]
          },
          "metadata": {},
          "execution_count": 50
        }
      ]
    },
    {
      "cell_type": "code",
      "source": [],
      "metadata": {
        "id": "6iKuVpEB6Vaa"
      },
      "execution_count": null,
      "outputs": []
    }
  ]
}
